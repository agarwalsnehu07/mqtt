{
  "nbformat": 4,
  "nbformat_minor": 0,
  "metadata": {
    "colab": {
      "provenance": [],
      "authorship_tag": "ABX9TyPd9JGtQps6a6O7KF+uLkR6",
      "include_colab_link": true
    },
    "kernelspec": {
      "name": "python3",
      "display_name": "Python 3"
    },
    "language_info": {
      "name": "python"
    }
  },
  "cells": [
    {
      "cell_type": "markdown",
      "metadata": {
        "id": "view-in-github",
        "colab_type": "text"
      },
      "source": [
        "<a href=\"https://colab.research.google.com/github/agarwalsnehu07/mqtt/blob/main/scripts.ipynb\" target=\"_parent\"><img src=\"https://colab.research.google.com/assets/colab-badge.svg\" alt=\"Open In Colab\"/></a>"
      ]
    },
    {
      "cell_type": "code",
      "execution_count": 2,
      "metadata": {
        "colab": {
          "base_uri": "https://localhost:8080/"
        },
        "id": "QreLi4yp3oia",
        "outputId": "f3ce5e9b-6c0c-42cd-c49f-e5f45a26eb41"
      },
      "outputs": [
        {
          "output_type": "stream",
          "name": "stdout",
          "text": [
            "Collecting paho-mqtt\n",
            "  Downloading paho_mqtt-2.1.0-py3-none-any.whl.metadata (23 kB)\n",
            "Downloading paho_mqtt-2.1.0-py3-none-any.whl (67 kB)\n",
            "\u001b[?25l   \u001b[90m━━━━━━━━━━━━━━━━━━━━━━━━━━━━━━━━━━━━━━━━\u001b[0m \u001b[32m0.0/67.2 kB\u001b[0m \u001b[31m?\u001b[0m eta \u001b[36m-:--:--\u001b[0m\r\u001b[2K   \u001b[91m━━━━━━━━━━━━━━━━━━━━━━━━━━━━━━━━━━━━\u001b[0m\u001b[91m╸\u001b[0m\u001b[90m━━━\u001b[0m \u001b[32m61.4/67.2 kB\u001b[0m \u001b[31m1.9 MB/s\u001b[0m eta \u001b[36m0:00:01\u001b[0m\r\u001b[2K   \u001b[90m━━━━━━━━━━━━━━━━━━━━━━━━━━━━━━━━━━━━━━━━\u001b[0m \u001b[32m67.2/67.2 kB\u001b[0m \u001b[31m1.6 MB/s\u001b[0m eta \u001b[36m0:00:00\u001b[0m\n",
            "\u001b[?25hInstalling collected packages: paho-mqtt\n",
            "Successfully installed paho-mqtt-2.1.0\n"
          ]
        }
      ],
      "source": [
        "pip install paho-mqtt"
      ]
    },
    {
      "cell_type": "code",
      "source": [
        "import paho.mqtt.client as mqtt\n",
        "import time\n",
        "import json\n",
        "import random\n",
        "from datetime import datetime\n",
        "\n",
        "broker = \"test.mosquitto.org\"\n",
        "port = 1883\n",
        "topic = \"timeseries/data\"\n",
        "\n",
        "client = mqtt.Client(client_id=\"Publisher\", protocol=mqtt.MQTTv311, transport=\"tcp\")\n",
        "\n",
        "client.connect(broker, port)\n",
        "\n",
        "def generate_data():\n",
        "    return {\n",
        "        \"timestamp\": datetime.utcnow().isoformat(),\n",
        "        \"value\": round(random.uniform(20.0, 25.0), 2)\n",
        "    }\n",
        "\n",
        "try:\n",
        "    while True:\n",
        "        data = generate_data()\n",
        "        payload = json.dumps(data)\n",
        "        client.publish(topic, payload)\n",
        "        print(f\"Published: {payload}\")\n",
        "        time.sleep(2)  # Publish every 2 seconds\n",
        "\n",
        "except KeyboardInterrupt:\n",
        "    print(\"Publisher stopped.\")"
      ],
      "metadata": {
        "colab": {
          "base_uri": "https://localhost:8080/"
        },
        "id": "YC1VzOam31kE",
        "outputId": "99cec08b-428a-4b08-9b23-64c40e334788"
      },
      "execution_count": 6,
      "outputs": [
        {
          "output_type": "stream",
          "name": "stderr",
          "text": [
            "<ipython-input-6-c34f0990e20f>:11: DeprecationWarning: Callback API version 1 is deprecated, update to latest version\n",
            "  client = mqtt.Client(client_id=\"Publisher\", protocol=mqtt.MQTTv311, transport=\"tcp\")\n"
          ]
        },
        {
          "output_type": "stream",
          "name": "stdout",
          "text": [
            "Published: {\"timestamp\": \"2025-05-06T04:40:02.646636\", \"value\": 21.09}\n",
            "Published: {\"timestamp\": \"2025-05-06T04:40:04.646913\", \"value\": 23.79}\n",
            "Published: {\"timestamp\": \"2025-05-06T04:40:06.647324\", \"value\": 22.24}\n",
            "Published: {\"timestamp\": \"2025-05-06T04:40:08.647745\", \"value\": 21.69}\n",
            "Published: {\"timestamp\": \"2025-05-06T04:40:10.648170\", \"value\": 20.74}\n",
            "Published: {\"timestamp\": \"2025-05-06T04:40:12.648590\", \"value\": 23.95}\n",
            "Publisher stopped.\n"
          ]
        }
      ]
    },
    {
      "cell_type": "code",
      "source": [
        "import paho.mqtt.client as mqtt\n",
        "import json\n",
        "\n",
        "broker = \"test.mosquitto.org\"\n",
        "port = 1883\n",
        "topic = \"timeseries/data\"\n",
        "\n",
        "def on_connect(client, userdata, flags, rc):\n",
        "    print(\"Connected with result code \" + str(rc))\n",
        "    client.subscribe(topic)\n",
        "\n",
        "def on_message(client, userdata, msg):\n",
        "    try:\n",
        "        data = json.loads(msg.payload.decode())\n",
        "        print(f\"Received Data - Timestamp: {data['timestamp']}, Value: {data['value']}\")\n",
        "    except json.JSONDecodeError:\n",
        "        print(\"Failed to decode message.\")\n",
        "\n",
        "client = mqtt.Client(client_id=\"Subscriber\", protocol=mqtt.MQTTv311, transport=\"tcp\")\n",
        "client.on_connect = on_connect\n",
        "client.on_message = on_message\n",
        "\n",
        "client.connect(broker, port, 60)\n",
        "client.loop_forever()"
      ],
      "metadata": {
        "colab": {
          "base_uri": "https://localhost:8080/"
        },
        "id": "-HAHBIzG4gmk",
        "outputId": "146f684b-1ff2-4e1d-d027-549f6e590324"
      },
      "execution_count": null,
      "outputs": [
        {
          "output_type": "stream",
          "name": "stderr",
          "text": [
            "<ipython-input-11-179469c8a5ed>:19: DeprecationWarning: Callback API version 1 is deprecated, update to latest version\n",
            "  client = mqtt.Client(client_id=\"Subscriber\", protocol=mqtt.MQTTv311, transport=\"tcp\")\n"
          ]
        },
        {
          "output_type": "stream",
          "name": "stdout",
          "text": [
            "Connected with result code 0\n"
          ]
        }
      ]
    }
  ]
}